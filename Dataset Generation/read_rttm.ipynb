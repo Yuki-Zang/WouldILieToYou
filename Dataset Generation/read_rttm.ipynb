{
 "cells": [
  {
   "cell_type": "markdown",
   "metadata": {},
   "source": [
    "##### `This notebook reads all rttm files in folder \"rttm\", extracts the speaker and time info, and stores it in folder \"timeSeg\". Make sure such folders appear in the current directory. \"rttm\" stores all the output files from diartization.`\n",
    "- rttm: diartization output\n",
    "- timeSeg: store the output files\n",
    "\n",
    "Last updated on August 3rd, 2022"
   ]
  },
  {
   "cell_type": "code",
   "execution_count": 1,
   "metadata": {},
   "outputs": [],
   "source": [
    "import os\n",
    "import pandas as pd\n",
    "def get_time_nodes_and_save():\n",
    "    '''\n",
    "    read all the rttm files in the folder \"rttm\", extract the info, and save the file into csv in \"timeSeg\" folder\n",
    "    '''\n",
    "    fileList=os.listdir(\"../rttm\")\n",
    "    try:\n",
    "        fileList.remove(\".DS_Store\")\n",
    "    except:\n",
    "        pass\n",
    "    for filename in fileList:\n",
    "        f=open(\"../rttm/\"+filename,\"r\")\n",
    "        print(filename)\n",
    "        data=f.read().split('\\n')[:-1]\n",
    "\n",
    "        #time and speaker data from the file\n",
    "        onset=[float(d.split(\" \")[3]) for d in data]\n",
    "        duration=[float(d.split(\" \")[4]) for d in data]\n",
    "        speaker=[int(d.split(\" \")[7][-1]) for d in data]\n",
    "\n",
    "        #initialize variables\n",
    "        current=0\n",
    "        speakerID=[]\n",
    "        timeNodes=[]\n",
    "\n",
    "        for i in range(len(speaker)):\n",
    "            if speaker[i]!=current:\n",
    "                timeNodes.append(onset[i])\n",
    "                speakerID.append(speaker[i-1])\n",
    "                current=speaker[i]\n",
    "\n",
    "        data={\"speaker\":speakerID,\"endAt\":timeNodes}\n",
    "        df=pd.DataFrame(data)\n",
    "        df.to_csv(\"../timeSeg/\"+filename[:-5]+\"time.csv\")"
   ]
  },
  {
   "cell_type": "code",
   "execution_count": 3,
   "metadata": {},
   "outputs": [],
   "source": [
    "get_time_nodes_and_save()"
   ]
  }
 ],
 "metadata": {
  "interpreter": {
   "hash": "6e4e1b29a8f3351e0554dd3a0af00c8fcb68193190a462336a502cdea2c36c18"
  },
  "kernelspec": {
   "display_name": "Python 3.9.7 ('ve')",
   "language": "python",
   "name": "python3"
  },
  "language_info": {
   "codemirror_mode": {
    "name": "ipython",
    "version": 3
   },
   "file_extension": ".py",
   "mimetype": "text/x-python",
   "name": "python",
   "nbconvert_exporter": "python",
   "pygments_lexer": "ipython3",
   "version": "3.10.13"
  },
  "orig_nbformat": 4
 },
 "nbformat": 4,
 "nbformat_minor": 2
}
