{
 "cells": [
  {
   "cell_type": "code",
   "execution_count": 3,
   "id": "3bdaa670-02c2-4e4f-86d3-2ee038ec6d9a",
   "metadata": {},
   "outputs": [],
   "source": [
    "import os\n",
    "from pydub import AudioSegment\n",
    "from pydub.silence import split_on_silence\n",
    " \n",
    "def segment(file_names, input_path, output_path, min_chunk_size):\n",
    "    \"\"\"\n",
    "    Assumes input audio files are wav, single channel.\n",
    "    Thanks to https://stackoverflow.com/questions/37725416/pydub-combine-split-on-silence-with-minimum-length-file-size\n",
    "    \"\"\"\n",
    "    for file_name in file_names:\n",
    "        sound_file = AudioSegment.from_wav(input_path + file_name + '.wav')\n",
    "        audio_chunks = split_on_silence(sound_file, min_silence_len=500, silence_thresh=-40, keep_silence=100)\n",
    "        # now recombine the chunks so that the parts are at least min_chunk_size sec long\n",
    "        target_length = min_chunk_size * 1000\n",
    "        output_chunks = [audio_chunks[0]]\n",
    "        for audio_chunk in audio_chunks[1:]:\n",
    "            if len(output_chunks[-1]) < target_length:\n",
    "                output_chunks[-1] += audio_chunk\n",
    "            else:\n",
    "                output_chunks.append(audio_chunk)\n",
    "        # now chunk\n",
    "        for i, chunk in enumerate(audio_chunks):\n",
    "            out_file = output_path + file_name + \"{0}.wav\".format(i)\n",
    "            chunk.export(out_file, format=\"wav\")\n",
    "            \n"
   ]
  },
  {
   "cell_type": "code",
   "execution_count": 4,
   "id": "60186fb6-f833-4509-9fff-9c19499b8396",
   "metadata": {},
   "outputs": [
    {
     "name": "stdout",
     "output_type": "stream",
     "text": [
      "['s01e01', 's01e02', 's14e01', 's14e03', 's14e02']\n"
     ]
    }
   ],
   "source": [
    "file_names = [os.path.splitext(file_name)[0] for file_name in os.listdir(\"../wav\")]\n",
    "\n",
    "print(file_names)\n",
    "segment(file_names[0:1], \"../wav/\", \"../chunks/\", 5)"
   ]
  }
 ],
 "metadata": {
  "kernelspec": {
   "display_name": "Python 3.9.7 ('ve')",
   "language": "python",
   "name": "python3"
  },
  "language_info": {
   "codemirror_mode": {
    "name": "ipython",
    "version": 3
   },
   "file_extension": ".py",
   "mimetype": "text/x-python",
   "name": "python",
   "nbconvert_exporter": "python",
   "pygments_lexer": "ipython3",
   "version": "3.9.7"
  },
  "vscode": {
   "interpreter": {
    "hash": "6e4e1b29a8f3351e0554dd3a0af00c8fcb68193190a462336a502cdea2c36c18"
   }
  }
 },
 "nbformat": 4,
 "nbformat_minor": 5
}
