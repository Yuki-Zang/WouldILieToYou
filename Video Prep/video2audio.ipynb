{
 "cells": [
  {
   "cell_type": "markdown",
   "metadata": {},
   "source": [
    "##### `This notebook converts video files into audio files and records guest names for each episode. It assumes in the folder of all seasons of WILTY videos.`\n",
    "##### `The video we got had title formatted in \"episodeNum - list of guest names\". Edit the code if the video title is dubbed differently.`\n",
    "Last updated on Sept. 24th, 2023"
   ]
  },
  {
   "cell_type": "code",
   "execution_count": 25,
   "metadata": {},
   "outputs": [],
   "source": [
    "from moviepy.video.io.ffmpeg_tools import ffmpeg_extract_subclip\n",
    "import moviepy.editor as mp\n",
    "import os \n",
    "import pandas as pd\n",
    "\n",
    "def decomposeVideo(path_to_dir='video', seriesName='Series 1'):\n",
    "    '''\n",
    "    In: \n",
    "    path_to_dir: str. path to the directory that contains all the series folders\n",
    "    seriesName: the folder for a specific season\n",
    "\n",
    "    out: \n",
    "    {epName}.mp3: mp3. the audio format of the show; e.g. s01e01.mp3\n",
    "    info{dirName}.csv: the guest name info for the season; e.g. info1.csv\n",
    "    '''\n",
    "\n",
    "    #a list of names\n",
    "    listOfName=os.listdir(f\"{path_to_dir}/{seriesName}\")\n",
    "    epID=[]\n",
    "    guestNames=[]\n",
    "    for filename in listOfName:\n",
    "        if filename != '.DS_Store':\n",
    "            #deal with the info\n",
    "            parts=filename.split(\"- \")\n",
    "            epName=parts[1][:-1]\n",
    "            epID.append(epName)\n",
    "            guestNames.append(parts[2][:-4])\n",
    "\n",
    "            clip = mp.VideoFileClip(f\"{path_to_dir}/{seriesName}/{filename}\")\n",
    "            clip.audio.write_audiofile(\"audio/\"+epName+\".mp3\", codec = 'mp3')\n",
    "\n",
    "    #write the info into a csv file\n",
    "    df=pd.DataFrame({\n",
    "        'EpisodeID': epID,\n",
    "        'Names':guestNames\n",
    "    })\n",
    "    print(df)\n",
    "    df.to_csv(f\"guestInfo/info{seriesName[7:]}.csv\")\n",
    "\n"
   ]
  },
  {
   "cell_type": "code",
   "execution_count": 27,
   "metadata": {},
   "outputs": [],
   "source": [
    "decomposeVideo()"
   ]
  }
 ],
 "metadata": {
  "interpreter": {
   "hash": "6e4e1b29a8f3351e0554dd3a0af00c8fcb68193190a462336a502cdea2c36c18"
  },
  "kernelspec": {
   "display_name": "Python 3.9.7 ('ve')",
   "language": "python",
   "name": "python3"
  },
  "language_info": {
   "codemirror_mode": {
    "name": "ipython",
    "version": 3
   },
   "file_extension": ".py",
   "mimetype": "text/x-python",
   "name": "python",
   "nbconvert_exporter": "python",
   "pygments_lexer": "ipython3",
   "version": "3.10.13"
  },
  "orig_nbformat": 4
 },
 "nbformat": 4,
 "nbformat_minor": 2
}
