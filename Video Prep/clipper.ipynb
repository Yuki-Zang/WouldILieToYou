{
 "cells": [
  {
   "cell_type": "markdown",
   "metadata": {},
   "source": [
    "##### `This notebook processes the videos and audios using ffmpeg and moviepy library. The terminal command for video/audio convertion is (e.g.) \"ffmpeg -i something.mp4 something.wav\".`\n",
    "\n",
    "Last updated on Sept. 24th, 2023"
   ]
  },
  {
   "cell_type": "code",
   "execution_count": 1,
   "metadata": {},
   "outputs": [],
   "source": [
    "from moviepy.video.io.ffmpeg_tools import ffmpeg_extract_subclip\n",
    "import moviepy.editor as mp\n",
    "from pydub import AudioSegment"
   ]
  },
  {
   "cell_type": "markdown",
   "metadata": {},
   "source": [
    "`Clipping from audios.`"
   ]
  },
  {
   "cell_type": "code",
   "execution_count": 2,
   "metadata": {},
   "outputs": [],
   "source": [
    "def extract_a_segment_of_audio(audioName, startTime, endTime):\n",
    "    '''\n",
    "    parameter:\n",
    "    audioName: str. the name/path of the audio to be cut\n",
    "    startTime: float. start time in second\n",
    "    endTime: float. end time in second\n",
    "\n",
    "    reads in the audio file and exports save the cut file under the name of \"audioName_cut.wav\"\n",
    "    NOTE: both the input and output files are in the same path\n",
    "    '''\n",
    "    \n",
    "    try:\n",
    "        newAudio = AudioSegment.from_mp3(audioName) #if wav file then use \"AudioSegment.from_wav\"\n",
    "    except:\n",
    "        print(\"file '{%s}' does not exist\" %audioName)\n",
    "        exit()\n",
    "    try:\n",
    "        newAudio = newAudio[startTime*1000:endTime*1000]\n",
    "    except:\n",
    "        print(\"time segment out of range\")\n",
    "        exit()\n",
    "\n",
    "    #Exports to a wav file in the current path.\n",
    "    newAudio.export(audioName[:-4]+'_cut.wav', format=\"wav\")\n"
   ]
  },
  {
   "cell_type": "code",
   "execution_count": 3,
   "metadata": {},
   "outputs": [],
   "source": [
    "#Clipping from an audio, can be\n",
    "extract_a_segment_of_audio(\"audio/s01e02.mp3\",104,109.3)"
   ]
  },
  {
   "cell_type": "markdown",
   "metadata": {},
   "source": [
    "`Clipping from videos. Make sure to rename the target video name into \"clip.mp4\" or change the input video name below.`"
   ]
  },
  {
   "cell_type": "code",
   "execution_count": 11,
   "metadata": {},
   "outputs": [
    {
     "name": "stdout",
     "output_type": "stream",
     "text": [
      "Moviepy - Running:\n",
      ">>> \"+ \" \".join(cmd)\n",
      "Moviepy - Command successful\n",
      "MoviePy - Writing audio in sound5.wav\n"
     ]
    },
    {
     "name": "stderr",
     "output_type": "stream",
     "text": [
      "                                                       "
     ]
    },
    {
     "name": "stdout",
     "output_type": "stream",
     "text": [
      "MoviePy - Done.\n"
     ]
    },
    {
     "name": "stderr",
     "output_type": "stream",
     "text": [
      "\r"
     ]
    }
   ],
   "source": [
    "#format = ffmpeg_extract_subclip(\"full.mp4\", start_seconds, end_seconds, targetname=\"cut.mp4\")\n",
    "ffmpeg_extract_subclip(\"clip.mp4\", 1410, 1420, targetname=\"cut.mp4\")\n",
    "clip = mp.VideoFileClip(\"cut.mp4\")\n",
    "sub_clip=clip.subclip(4.2,5)\n",
    "sub_clip.audio.write_audiofile(\"sound5.wav\")"
   ]
  }
 ],
 "metadata": {
  "kernelspec": {
   "display_name": "wilty",
   "language": "python",
   "name": "python3"
  },
  "language_info": {
   "codemirror_mode": {
    "name": "ipython",
    "version": 3
   },
   "file_extension": ".py",
   "mimetype": "text/x-python",
   "name": "python",
   "nbconvert_exporter": "python",
   "pygments_lexer": "ipython3",
   "version": "3.10.13"
  },
  "orig_nbformat": 4
 },
 "nbformat": 4,
 "nbformat_minor": 2
}
