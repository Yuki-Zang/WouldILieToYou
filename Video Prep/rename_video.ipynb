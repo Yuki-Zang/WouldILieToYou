{
 "cells": [
  {
   "cell_type": "markdown",
   "metadata": {},
   "source": [
    "##### `This file simplifies the name of the video into the form of \"sXXeXX.wav\". sXXeXX will henceforth be a unique id for each video.`\n",
    "\n",
    "Last updated on Sept. 24th, 2023"
   ]
  },
  {
   "cell_type": "code",
   "execution_count": 13,
   "metadata": {},
   "outputs": [],
   "source": [
    "import os\n",
    "def simplify_audio_name(path_to_dir=\"video\"):\n",
    "    '''\n",
    "    put this file in the folder that contains all the subfolders in form of \"Series XX\"\n",
    "    it simplifies the name of the video into the form of \"sXXeXX.wav\"\n",
    "\n",
    "    In: \n",
    "    path_to_dir: str. path to the directory that contains all folder of \"Series XX\"\n",
    "    '''\n",
    "\n",
    "    folder_name=os.listdir(path_to_dir)\n",
    "    try:\n",
    "        folder_name.remove(\".DS_Store\")\n",
    "        folder_name.remove(\".ipynb_checkpoints\") \n",
    "    except:\n",
    "        pass\n",
    "\n",
    "    for folder in folder_name:\n",
    "        file_name=os.listdir(path_to_dir + '/' + folder)\n",
    "        for name in file_name:\n",
    "            try:\n",
    "                new_name=name.split(\"- \")[1].strip()+name[-4:]\n",
    "                os.rename(f\"{path_to_dir}/{folder}/{name}\",f\"{path_to_dir}/{folder}/{new_name}\")\n",
    "            except:\n",
    "                pass\n",
    "    \n",
    "   "
   ]
  },
  {
   "cell_type": "code",
   "execution_count": 14,
   "metadata": {},
   "outputs": [],
   "source": [
    "simplify_audio_name()"
   ]
  }
 ],
 "metadata": {
  "kernelspec": {
   "display_name": "Python 3.9.7 ('ve': venv)",
   "language": "python",
   "name": "python3"
  },
  "language_info": {
   "codemirror_mode": {
    "name": "ipython",
    "version": 3
   },
   "file_extension": ".py",
   "mimetype": "text/x-python",
   "name": "python",
   "nbconvert_exporter": "python",
   "pygments_lexer": "ipython3",
   "version": "3.10.13"
  },
  "orig_nbformat": 4,
  "vscode": {
   "interpreter": {
    "hash": "6e4e1b29a8f3351e0554dd3a0af00c8fcb68193190a462336a502cdea2c36c18"
   }
  }
 },
 "nbformat": 4,
 "nbformat_minor": 2
}
